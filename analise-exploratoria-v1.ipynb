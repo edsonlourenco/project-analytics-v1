{
 "cells": [
  {
   "cell_type": "markdown",
   "metadata": {},
   "source": [
    "# Projeto Analytics V1 | PySpark | Canal do Youtube <a href=\"www.youtube.com/UnravelingCode\">Unraveling Code</a>"
   ]
  },
  {
   "cell_type": "markdown",
   "metadata": {},
   "source": [
    "### Importação de objetos"
   ]
  },
  {
   "cell_type": "code",
   "execution_count": null,
   "metadata": {},
   "outputs": [],
   "source": [
    "import findspark\n",
    "from pyspark.sql import SparkSession"
   ]
  },
  {
   "cell_type": "markdown",
   "metadata": {},
   "source": [
    "### Configurações"
   ]
  },
  {
   "cell_type": "code",
   "execution_count": null,
   "metadata": {},
   "outputs": [],
   "source": [
    "findspark.init()\n",
    "spark = SparkSession.builder.getOrCreate()\n",
    "spark.conf.set('spark.sql.repl.eagerEval.enabled', True)"
   ]
  },
  {
   "cell_type": "markdown",
   "metadata": {},
   "source": [
    "# Analisando os dados"
   ]
  },
  {
   "cell_type": "markdown",
   "metadata": {},
   "source": [
    "### Carregando os dados | source json"
   ]
  },
  {
   "cell_type": "code",
   "execution_count": null,
   "metadata": {},
   "outputs": [],
   "source": [
    "path_json = '/Users/edsonlourenco/Downloads/source-4-ds-train.json'\n",
    "df_imoveis = spark.read.json(path_json)"
   ]
  },
  {
   "cell_type": "markdown",
   "metadata": {},
   "source": [
    "### Contando as linhas"
   ]
  },
  {
   "cell_type": "code",
   "execution_count": null,
   "metadata": {},
   "outputs": [],
   "source": [
    "df_imoveis.count() #133.964***"
   ]
  },
  {
   "cell_type": "markdown",
   "metadata": {},
   "source": [
    "### Checando o schema"
   ]
  },
  {
   "cell_type": "code",
   "execution_count": null,
   "metadata": {},
   "outputs": [],
   "source": [
    "df_imoveis.printSchema()"
   ]
  },
  {
   "cell_type": "markdown",
   "metadata": {},
   "source": [
    "### Selecionando as todas colunas | 10 linhas apenas"
   ]
  },
  {
   "cell_type": "code",
   "execution_count": null,
   "metadata": {},
   "outputs": [],
   "source": [
    "df_imoveis.select('*').limit(10)"
   ]
  },
  {
   "cell_type": "markdown",
   "metadata": {},
   "source": [
    "### Selecionando uma coluna"
   ]
  },
  {
   "cell_type": "code",
   "execution_count": null,
   "metadata": {},
   "outputs": [],
   "source": [
    "df_imoveis.select('address.neighborhood').limit(10)"
   ]
  },
  {
   "cell_type": "markdown",
   "metadata": {},
   "source": [
    "### Selecionando colunas e analisando amostragem de 10 linhas"
   ]
  },
  {
   "cell_type": "code",
   "execution_count": null,
   "metadata": {},
   "outputs": [],
   "source": [
    "cols = [\n",
    "         'address.country', 'address.city', 'address.neighborhood', 'address.state', 'address.street', 'address.zone', \n",
    "         'bathrooms', 'bedrooms', 'description', 'listingStatus', 'owner', 'parkingSpaces', 'pricingInfos.businessType',\n",
    "         'pricingInfos.monthlyCondoFee','pricingInfos.period', 'pricingInfos.price', 'pricingInfos.rentalTotalPrice', 'pricingInfos.yearlyIptu',\n",
    "         'publicationType', 'suites', 'title', 'totalAreas', 'unitTypes', 'usableAreas'\n",
    "       ]\n",
    "\n",
    "df_imoveis.select(cols).limit(10) "
   ]
  },
  {
   "cell_type": "markdown",
   "metadata": {},
   "source": [
    "### Buscando dados distintos | método distinct()"
   ]
  },
  {
   "cell_type": "code",
   "execution_count": null,
   "metadata": {},
   "outputs": [],
   "source": [
    "df_imoveis.select('address.neighborhood').distinct()"
   ]
  },
  {
   "cell_type": "markdown",
   "metadata": {},
   "source": [
    "### Contando dados agrupados e contando | método groupby() e count()"
   ]
  },
  {
   "cell_type": "code",
   "execution_count": null,
   "metadata": {},
   "outputs": [],
   "source": [
    "df_imoveis.groupBy('address.neighborhood').count()"
   ]
  },
  {
   "cell_type": "code",
   "execution_count": null,
   "metadata": {},
   "outputs": [],
   "source": [
    "df_imoveis.groupBy('unitTypes').count()"
   ]
  },
  {
   "cell_type": "markdown",
   "metadata": {},
   "source": [
    "### Contando dados agrupados | método groupby() informando coluna"
   ]
  },
  {
   "cell_type": "code",
   "execution_count": null,
   "metadata": {},
   "outputs": [],
   "source": [
    "from pyspark.sql import functions as F\n",
    "\n",
    "df_imoveis \\\n",
    "        .groupBy('address.neighborhood') \\\n",
    "        .agg(F.count(\"*\").alias(\"qty\"))"
   ]
  },
  {
   "cell_type": "markdown",
   "metadata": {},
   "source": [
    "### Melhorando identação do código"
   ]
  },
  {
   "cell_type": "code",
   "execution_count": null,
   "metadata": {},
   "outputs": [],
   "source": [
    "from pyspark.sql import functions as F #repetido apenas para fins didáticos\n",
    "\n",
    "(\n",
    "    df_imoveis\n",
    "            .groupBy(F.col(\"address.neighborhood\"))\n",
    "            .agg(F.count(\"*\").alias(\"qty\"))\n",
    ")"
   ]
  },
  {
   "cell_type": "markdown",
   "metadata": {},
   "source": [
    "### Pesquisando por uma coluna | método where()"
   ]
  },
  {
   "cell_type": "code",
   "execution_count": null,
   "metadata": {},
   "outputs": [],
   "source": [
    "from pyspark.sql import functions as F #repetido apenas para fins didáticos\n",
    "\n",
    "(\n",
    "    df_imoveis\n",
    "            .where(F.col(\"address.neighborhood\") == \"Jardim Coimbra\")\n",
    "            .select(\"*\")\n",
    ")"
   ]
  },
  {
   "cell_type": "markdown",
   "metadata": {},
   "source": [
    "### Pesquisando por uma coluna | método where() | por contagem"
   ]
  },
  {
   "cell_type": "code",
   "execution_count": null,
   "metadata": {},
   "outputs": [],
   "source": [
    "from pyspark.sql import functions as F #repetido apenas para fins didáticos\n",
    "\n",
    "df_imoveis_contagem = (\n",
    "                        df_imoveis\n",
    "                                .groupBy(F.col(\"address.neighborhood\"))\n",
    "                                .agg(F.count(\"*\").alias(\"qty\"))\n",
    ")\n",
    "\n",
    "(\n",
    "    df_imoveis_contagem\n",
    "            .where(F.col(\"qty\") > 10)\n",
    "            .select(\"*\")\n",
    ")"
   ]
  },
  {
   "cell_type": "markdown",
   "metadata": {},
   "source": [
    "### Contando dados agrupados com mais de uma coluna | método groupBy()"
   ]
  },
  {
   "cell_type": "code",
   "execution_count": null,
   "metadata": {},
   "outputs": [],
   "source": [
    "from pyspark.sql import functions as F #repetido apenas para fins didáticos\n",
    "\n",
    "(\n",
    "    df_imoveis\n",
    "            .groupBy(\n",
    "                        F.col(\"address.neighborhood\"),\n",
    "                        F.col(\"unitTypes\")\n",
    "                     )\n",
    "            .agg(F.count(\"*\").alias(\"qty\"))\n",
    ")"
   ]
  },
  {
   "cell_type": "markdown",
   "metadata": {},
   "source": [
    "### Contando dados agrupados com mais de uma coluna | método groupBy() com orderBy()"
   ]
  },
  {
   "cell_type": "code",
   "execution_count": null,
   "metadata": {},
   "outputs": [],
   "source": [
    "from pyspark.sql import functions as F #repetido apenas para fins didáticos\n",
    "\n",
    "(\n",
    "    df_imoveis\n",
    "            .groupBy(\n",
    "                        F.col(\"address.neighborhood\"),\n",
    "                        F.col(\"unitTypes\")\n",
    "                     )\n",
    "            .agg(F.count(\"*\").alias(\"qty\"))\n",
    "            .orderBy(F.col(\"address.neighborhood\"))\n",
    ")"
   ]
  },
  {
   "cell_type": "markdown",
   "metadata": {},
   "source": [
    "### Consultando por casas e trazendo dados financieros | criar dataframe de casas para locação"
   ]
  },
  {
   "cell_type": "code",
   "execution_count": null,
   "metadata": {},
   "outputs": [],
   "source": [
    "from pyspark.sql import functions as F #repetido apenas para fins didáticos\n",
    "\n",
    "tipos_imoveis = ['FARM', 'HOME', 'COUNTRY_HOUSE']\n",
    "\n",
    "cols = [\n",
    "         'address.country', 'address.city', 'address.neighborhood', 'address.state', 'address.street', 'address.zone', \n",
    "         'bathrooms', 'bedrooms', 'description', 'listingStatus', 'owner', 'parkingSpaces', 'pricingInfos.businessType',\n",
    "         'pricingInfos.monthlyCondoFee','pricingInfos.period', 'pricingInfos.price', 'pricingInfos.rentalTotalPrice', 'pricingInfos.yearlyIptu',\n",
    "         'publicationType', 'suites', 'title', 'totalAreas', 'unitTypes', 'usableAreas'\n",
    "       ]\n",
    "\n",
    "(\n",
    "      df_imoveis.select(cols)\n",
    "                           .where(\n",
    "                              (F.col(\"unitTypes\").isin(tipos_imoveis)) &\n",
    "                              (F.col(\"pricingInfos.businessType\") == \"RENTAL\")\n",
    "                           )\n",
    ")"
   ]
  }
 ],
 "metadata": {
  "interpreter": {
   "hash": "07fa284e5e87c56d582686e0f128b70be0051a529d9d904777562dd4a006cf5f"
  },
  "kernelspec": {
   "display_name": "Python 3.9.7 ('pyspark')",
   "language": "python",
   "name": "python3"
  },
  "language_info": {
   "codemirror_mode": {
    "name": "ipython",
    "version": 3
   },
   "file_extension": ".py",
   "mimetype": "text/x-python",
   "name": "python",
   "nbconvert_exporter": "python",
   "pygments_lexer": "ipython3",
   "version": "3.9.7"
  },
  "orig_nbformat": 4
 },
 "nbformat": 4,
 "nbformat_minor": 2
}
